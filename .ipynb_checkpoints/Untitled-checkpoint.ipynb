{
 "cells": [
  {
   "cell_type": "code",
   "execution_count": null,
   "id": "a86c2037",
   "metadata": {},
   "outputs": [],
   "source": [
    "import numpy\n",
    "import qPCR\n",
    "import matplotlib.pyplot as plt\n",
    "import pandas as pd\n",
    "\n",
    "GOI_list = ['GAPDH (Old Primers)', np.nan, 'GAPDH (New Primers)', np.nan, 'UBC', np.nan, 'ACTB', np.nan, 'Ywhaz', \tnp.nan,\n",
    "                'MUC2', \tnp.nan, 'Atoh1', np.nan, \"IL15ra\", np.nan, \"IDO1\", np.nan, \"CCL20\",\n",
    "                np.nan, \"LIF\", np.nan, np.nan, np.nan]\n",
    "cytokines = {\n",
    "        'A': 'IFNγ',\n",
    "        'B': 'IFNγ',\n",
    "        'C': 'IL1β',\n",
    "        'D': \"IL1β\",\n",
    "        'E': \"Unstimulated\",\n",
    "        'F': \"Unstimulated\",\n",
    "        'G': 'EXPJ3 RT (-) ctrl',\n",
    "        'H': 'EXPJ6 RT (-) ctrl',\n",
    "        'I': np.nan,\n",
    "        'J': np.nan,\n",
    "        'K': np.nan,\n",
    "        'L': np.nan,\n",
    "        'M': np.nan,\n",
    "        'N': np.nan,\n",
    "        'O': np.nan,\n",
    "        'P': np.nan\n",
    "    }"
   ]
  }
 ],
 "metadata": {
  "kernelspec": {
   "display_name": "Python 3 (ipykernel)",
   "language": "python",
   "name": "python3"
  },
  "language_info": {
   "codemirror_mode": {
    "name": "ipython",
    "version": 3
   },
   "file_extension": ".py",
   "mimetype": "text/x-python",
   "name": "python",
   "nbconvert_exporter": "python",
   "pygments_lexer": "ipython3",
   "version": "3.9.6"
  }
 },
 "nbformat": 4,
 "nbformat_minor": 5
}
